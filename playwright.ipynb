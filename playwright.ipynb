{
 "cells": [
  {
   "cell_type": "code",
   "execution_count": 1,
   "metadata": {},
   "outputs": [],
   "source": [
    "from playwright.async_api import async_playwright\n",
    "import nest_asyncio"
   ]
  },
  {
   "cell_type": "code",
   "execution_count": 3,
   "metadata": {},
   "outputs": [],
   "source": [
    "nest_asyncio.apply()"
   ]
  },
  {
   "cell_type": "code",
   "execution_count": 2,
   "metadata": {},
   "outputs": [
    {
     "data": {
      "text/plain": [
       "<Response url='https://app.careerpuck.com/job-board/lyft/job/7627231002?gh_jid=7|627231002' request=<Request url='https://app.careerpuck.com/job-board/lyft/job/7627231002?gh_jid=7|627231002' method='GET'>>"
      ]
     },
     "execution_count": 2,
     "metadata": {},
     "output_type": "execute_result"
    }
   ],
   "source": [
    "browser = await async_playwright().start()\n",
    "browser = await browser.chromium.launch(headless=False, args=None)\n",
    "context = await browser.new_context()\n",
    "page = await context.new_page()\n",
    "await page.goto(\"https://app.careerpuck.com/job-board/lyft/job/7627231002?gh_jid=7|627231002\")"
   ]
  },
  {
   "cell_type": "code",
   "execution_count": 4,
   "metadata": {},
   "outputs": [],
   "source": [
    "await page.evaluate(\"\"\"console.log('WEEEE')\"\"\") # basically execute ONLY javascript code inside that page"
   ]
  },
  {
   "cell_type": "code",
   "execution_count": 4,
   "metadata": {},
   "outputs": [],
   "source": [
    "await page.close()"
   ]
  },
  {
   "cell_type": "code",
   "execution_count": 8,
   "metadata": {},
   "outputs": [
    {
     "data": {
      "text/plain": [
       "{'x': 0,\n",
       " 'y': 0,\n",
       " 'width': 1280,\n",
       " 'height': 7028.0546875,\n",
       " 'top': 0,\n",
       " 'right': 1280,\n",
       " 'bottom': 7028.0546875,\n",
       " 'left': 0}"
      ]
     },
     "execution_count": 8,
     "metadata": {},
     "output_type": "execute_result"
    }
   ],
   "source": [
    "await page.evaluate(\"\"\"document.body.getBoundingClientRect()\"\"\")"
   ]
  },
  {
   "cell_type": "code",
   "execution_count": 77,
   "metadata": {},
   "outputs": [
    {
     "ename": "Error",
     "evalue": "Page.evaluate: SecurityError: Failed to read a named property 'document' from 'Window': Blocked a frame with origin \"https://app.careerpuck.com\" from accessing a cross-origin frame.\n    at iframeRef (eval at evaluate (:234:30), <anonymous>:4:38)\n    at eval (eval at evaluate (:234:30), <anonymous>:8:18)\n    at eval (eval at evaluate (:234:30), <anonymous>:11:7)\n    at eval (<anonymous>)\n    at UtilityScript.evaluate (<anonymous>:234:30)\n    at UtilityScript.<anonymous> (<anonymous>:1:44)",
     "output_type": "error",
     "traceback": [
      "\u001b[0;31m---------------------------------------------------------------------------\u001b[0m",
      "\u001b[0;31mError\u001b[0m                                     Traceback (most recent call last)",
      "Cell \u001b[0;32mIn[77], line 16\u001b[0m\n\u001b[1;32m      1\u001b[0m code \u001b[38;5;241m=\u001b[39m \u001b[38;5;124m\"\"\"\u001b[39m\n\u001b[1;32m      2\u001b[0m \u001b[38;5;124m    (() => \u001b[39m\u001b[38;5;124m{\u001b[39m\n\u001b[1;32m      3\u001b[0m \u001b[38;5;124m    function iframeRef( frameRef ) \u001b[39m\u001b[38;5;124m{\u001b[39m\n\u001b[0;32m   (...)\u001b[0m\n\u001b[1;32m     12\u001b[0m \u001b[38;5;124m    })()\u001b[39m\n\u001b[1;32m     13\u001b[0m \u001b[38;5;124m\"\"\"\u001b[39m\n\u001b[1;32m     15\u001b[0m \u001b[38;5;66;03m# Evaluate the JavaScript code within the page context\u001b[39;00m\n\u001b[0;32m---> 16\u001b[0m value \u001b[38;5;241m=\u001b[39m \u001b[38;5;28;01mawait\u001b[39;00m page\u001b[38;5;241m.\u001b[39mevaluate(code)\n\u001b[1;32m     17\u001b[0m \u001b[38;5;28mprint\u001b[39m(value)\n",
      "File \u001b[0;32m~/miniconda3/envs/ml/lib/python3.9/site-packages/playwright/async_api/_generated.py:8332\u001b[0m, in \u001b[0;36mPage.evaluate\u001b[0;34m(self, expression, arg)\u001b[0m\n\u001b[1;32m   8279\u001b[0m \u001b[38;5;28;01masync\u001b[39;00m \u001b[38;5;28;01mdef\u001b[39;00m \u001b[38;5;21mevaluate\u001b[39m(\n\u001b[1;32m   8280\u001b[0m     \u001b[38;5;28mself\u001b[39m, expression: \u001b[38;5;28mstr\u001b[39m, arg: typing\u001b[38;5;241m.\u001b[39mOptional[typing\u001b[38;5;241m.\u001b[39mAny] \u001b[38;5;241m=\u001b[39m \u001b[38;5;28;01mNone\u001b[39;00m\n\u001b[1;32m   8281\u001b[0m ) \u001b[38;5;241m-\u001b[39m\u001b[38;5;241m>\u001b[39m typing\u001b[38;5;241m.\u001b[39mAny:\n\u001b[1;32m   8282\u001b[0m \u001b[38;5;250m    \u001b[39m\u001b[38;5;124;03m\"\"\"Page.evaluate\u001b[39;00m\n\u001b[1;32m   8283\u001b[0m \n\u001b[1;32m   8284\u001b[0m \u001b[38;5;124;03m    Returns the value of the `expression` invocation.\u001b[39;00m\n\u001b[0;32m   (...)\u001b[0m\n\u001b[1;32m   8328\u001b[0m \u001b[38;5;124;03m    Any\u001b[39;00m\n\u001b[1;32m   8329\u001b[0m \u001b[38;5;124;03m    \"\"\"\u001b[39;00m\n\u001b[1;32m   8331\u001b[0m     \u001b[38;5;28;01mreturn\u001b[39;00m mapping\u001b[38;5;241m.\u001b[39mfrom_maybe_impl(\n\u001b[0;32m-> 8332\u001b[0m         \u001b[38;5;28;01mawait\u001b[39;00m \u001b[38;5;28mself\u001b[39m\u001b[38;5;241m.\u001b[39m_impl_obj\u001b[38;5;241m.\u001b[39mevaluate(\n\u001b[1;32m   8333\u001b[0m             expression\u001b[38;5;241m=\u001b[39mexpression, arg\u001b[38;5;241m=\u001b[39mmapping\u001b[38;5;241m.\u001b[39mto_impl(arg)\n\u001b[1;32m   8334\u001b[0m         )\n\u001b[1;32m   8335\u001b[0m     )\n",
      "File \u001b[0;32m~/miniconda3/envs/ml/lib/python3.9/site-packages/playwright/_impl/_page.py:440\u001b[0m, in \u001b[0;36mPage.evaluate\u001b[0;34m(self, expression, arg)\u001b[0m\n\u001b[1;32m    439\u001b[0m \u001b[38;5;28;01masync\u001b[39;00m \u001b[38;5;28;01mdef\u001b[39;00m \u001b[38;5;21mevaluate\u001b[39m(\u001b[38;5;28mself\u001b[39m, expression: \u001b[38;5;28mstr\u001b[39m, arg: Serializable \u001b[38;5;241m=\u001b[39m \u001b[38;5;28;01mNone\u001b[39;00m) \u001b[38;5;241m-\u001b[39m\u001b[38;5;241m>\u001b[39m Any:\n\u001b[0;32m--> 440\u001b[0m     \u001b[38;5;28;01mreturn\u001b[39;00m \u001b[38;5;28;01mawait\u001b[39;00m \u001b[38;5;28mself\u001b[39m\u001b[38;5;241m.\u001b[39m_main_frame\u001b[38;5;241m.\u001b[39mevaluate(expression, arg)\n",
      "File \u001b[0;32m~/miniconda3/envs/ml/lib/python3.9/site-packages/playwright/_impl/_frame.py:278\u001b[0m, in \u001b[0;36mFrame.evaluate\u001b[0;34m(self, expression, arg)\u001b[0m\n\u001b[1;32m    276\u001b[0m \u001b[38;5;28;01masync\u001b[39;00m \u001b[38;5;28;01mdef\u001b[39;00m \u001b[38;5;21mevaluate\u001b[39m(\u001b[38;5;28mself\u001b[39m, expression: \u001b[38;5;28mstr\u001b[39m, arg: Serializable \u001b[38;5;241m=\u001b[39m \u001b[38;5;28;01mNone\u001b[39;00m) \u001b[38;5;241m-\u001b[39m\u001b[38;5;241m>\u001b[39m Any:\n\u001b[1;32m    277\u001b[0m     \u001b[38;5;28;01mreturn\u001b[39;00m parse_result(\n\u001b[0;32m--> 278\u001b[0m         \u001b[38;5;28;01mawait\u001b[39;00m \u001b[38;5;28mself\u001b[39m\u001b[38;5;241m.\u001b[39m_channel\u001b[38;5;241m.\u001b[39msend(\n\u001b[1;32m    279\u001b[0m             \u001b[38;5;124m\"\u001b[39m\u001b[38;5;124mevaluateExpression\u001b[39m\u001b[38;5;124m\"\u001b[39m,\n\u001b[1;32m    280\u001b[0m             \u001b[38;5;28mdict\u001b[39m(\n\u001b[1;32m    281\u001b[0m                 expression\u001b[38;5;241m=\u001b[39mexpression,\n\u001b[1;32m    282\u001b[0m                 arg\u001b[38;5;241m=\u001b[39mserialize_argument(arg),\n\u001b[1;32m    283\u001b[0m             ),\n\u001b[1;32m    284\u001b[0m         )\n\u001b[1;32m    285\u001b[0m     )\n",
      "File \u001b[0;32m~/miniconda3/envs/ml/lib/python3.9/site-packages/playwright/_impl/_connection.py:59\u001b[0m, in \u001b[0;36mChannel.send\u001b[0;34m(self, method, params)\u001b[0m\n\u001b[1;32m     58\u001b[0m \u001b[38;5;28;01masync\u001b[39;00m \u001b[38;5;28;01mdef\u001b[39;00m \u001b[38;5;21msend\u001b[39m(\u001b[38;5;28mself\u001b[39m, method: \u001b[38;5;28mstr\u001b[39m, params: Dict \u001b[38;5;241m=\u001b[39m \u001b[38;5;28;01mNone\u001b[39;00m) \u001b[38;5;241m-\u001b[39m\u001b[38;5;241m>\u001b[39m Any:\n\u001b[0;32m---> 59\u001b[0m     \u001b[38;5;28;01mreturn\u001b[39;00m \u001b[38;5;28;01mawait\u001b[39;00m \u001b[38;5;28mself\u001b[39m\u001b[38;5;241m.\u001b[39m_connection\u001b[38;5;241m.\u001b[39mwrap_api_call(\n\u001b[1;32m     60\u001b[0m         \u001b[38;5;28;01mlambda\u001b[39;00m: \u001b[38;5;28mself\u001b[39m\u001b[38;5;241m.\u001b[39minner_send(method, params, \u001b[38;5;28;01mFalse\u001b[39;00m)\n\u001b[1;32m     61\u001b[0m     )\n",
      "File \u001b[0;32m~/miniconda3/envs/ml/lib/python3.9/site-packages/playwright/_impl/_connection.py:514\u001b[0m, in \u001b[0;36mConnection.wrap_api_call\u001b[0;34m(self, cb, is_internal)\u001b[0m\n\u001b[1;32m    512\u001b[0m     \u001b[38;5;28;01mreturn\u001b[39;00m \u001b[38;5;28;01mawait\u001b[39;00m cb()\n\u001b[1;32m    513\u001b[0m \u001b[38;5;28;01mexcept\u001b[39;00m \u001b[38;5;167;01mException\u001b[39;00m \u001b[38;5;28;01mas\u001b[39;00m error:\n\u001b[0;32m--> 514\u001b[0m     \u001b[38;5;28;01mraise\u001b[39;00m rewrite_error(error, \u001b[38;5;124mf\u001b[39m\u001b[38;5;124m\"\u001b[39m\u001b[38;5;132;01m{\u001b[39;00mparsed_st[\u001b[38;5;124m'\u001b[39m\u001b[38;5;124mapiName\u001b[39m\u001b[38;5;124m'\u001b[39m]\u001b[38;5;132;01m}\u001b[39;00m\u001b[38;5;124m: \u001b[39m\u001b[38;5;132;01m{\u001b[39;00merror\u001b[38;5;132;01m}\u001b[39;00m\u001b[38;5;124m\"\u001b[39m) \u001b[38;5;28;01mfrom\u001b[39;00m \u001b[38;5;28;01mNone\u001b[39;00m\n\u001b[1;32m    515\u001b[0m \u001b[38;5;28;01mfinally\u001b[39;00m:\n\u001b[1;32m    516\u001b[0m     \u001b[38;5;28mself\u001b[39m\u001b[38;5;241m.\u001b[39m_api_zone\u001b[38;5;241m.\u001b[39mset(\u001b[38;5;28;01mNone\u001b[39;00m)\n",
      "\u001b[0;31mError\u001b[0m: Page.evaluate: SecurityError: Failed to read a named property 'document' from 'Window': Blocked a frame with origin \"https://app.careerpuck.com\" from accessing a cross-origin frame.\n    at iframeRef (eval at evaluate (:234:30), <anonymous>:4:38)\n    at eval (eval at evaluate (:234:30), <anonymous>:8:18)\n    at eval (eval at evaluate (:234:30), <anonymous>:11:7)\n    at eval (<anonymous>)\n    at UtilityScript.evaluate (<anonymous>:234:30)\n    at UtilityScript.<anonymous> (<anonymous>:1:44)"
     ]
    }
   ],
   "source": [
    "code = \"\"\"\n",
    "    (() => {\n",
    "    function iframeRef( frameRef ) {\n",
    "        return frameRef.contentWindow\n",
    "            ? frameRef.contentWindow.document\n",
    "            : frameRef.contentDocument\n",
    "    }\n",
    "\n",
    "    var inside = iframeRef( document.getElementById('grnhse_iframe'))\n",
    "    return inside\n",
    "    \n",
    "    })()\n",
    "\"\"\"\n",
    "\n",
    "# Evaluate the JavaScript code within the page context\n",
    "value = await page.evaluate(code)\n",
    "print(value)\n"
   ]
  },
  {
   "cell_type": "code",
   "execution_count": 9,
   "metadata": {},
   "outputs": [
    {
     "name": "stdout",
     "output_type": "stream",
     "text": [
      "{'x': 601.765625, 'y': 291.3984375, 'width': 76.46875, 'height': 40}\n"
     ]
    }
   ],
   "source": [
    "# Locate the button using the aria-label attribute\n",
    "button_locator = page.locator('button[aria-label=\"Apply to Data Science Intern, Algorithms (Summer 2025)\"]')\n",
    "\n",
    "# Get the bounding box of the button element\n",
    "bounding_box = await button_locator.bounding_box()\n",
    "print(bounding_box)"
   ]
  },
  {
   "cell_type": "code",
   "execution_count": 165,
   "metadata": {},
   "outputs": [
    {
     "name": "stdout",
     "output_type": "stream",
     "text": [
      "Mouse position: {'x': 0, 'y': 0, 'pageX': 0, 'pageY': 0} Viewport size: {'width': 1280, 'height': 720}\n",
      "Mouse position: {'x': 0, 'y': 0, 'pageX': 0, 'pageY': 0} Viewport size: {'width': 1280, 'height': 720}\n",
      "Mouse position: {'x': 46, 'y': 153, 'pageX': 46, 'pageY': 153} Viewport size: {'width': 1280, 'height': 720}\n",
      "Mouse position: {'x': 46, 'y': 153, 'pageX': 46, 'pageY': 153} Viewport size: {'width': 1280, 'height': 720}\n",
      "Mouse position: {'x': 46, 'y': 153, 'pageX': 46, 'pageY': 153} Viewport size: {'width': 1280, 'height': 720}\n",
      "Mouse position: {'x': 46, 'y': 153, 'pageX': 46, 'pageY': 153} Viewport size: {'width': 1280, 'height': 720}\n",
      "Mouse position: {'x': 46, 'y': 153, 'pageX': 46, 'pageY': 153} Viewport size: {'width': 1280, 'height': 720}\n",
      "Mouse position: {'x': 46, 'y': 153, 'pageX': 46, 'pageY': 153} Viewport size: {'width': 1280, 'height': 720}\n",
      "Mouse position: {'x': 46, 'y': 153, 'pageX': 46, 'pageY': 153} Viewport size: {'width': 1280, 'height': 720}\n",
      "Mouse position: {'x': 46, 'y': 153, 'pageX': 46, 'pageY': 153} Viewport size: {'width': 1280, 'height': 720}\n",
      "Mouse position: {'x': 46, 'y': 153, 'pageX': 46, 'pageY': 153} Viewport size: {'width': 1280, 'height': 720}\n",
      "Mouse position: {'x': 46, 'y': 153, 'pageX': 46, 'pageY': 153} Viewport size: {'width': 1280, 'height': 720}\n",
      "Mouse position: {'x': 46, 'y': 153, 'pageX': 46, 'pageY': 153} Viewport size: {'width': 1280, 'height': 720}\n",
      "Mouse position: {'x': 46, 'y': 153, 'pageX': 46, 'pageY': 153} Viewport size: {'width': 1280, 'height': 720}\n",
      "Mouse position: {'x': 46, 'y': 153, 'pageX': 46, 'pageY': 153} Viewport size: {'width': 1280, 'height': 720}\n",
      "Mouse position: {'x': 46, 'y': 153, 'pageX': 46, 'pageY': 153} Viewport size: {'width': 1280, 'height': 720}\n",
      "Mouse position: {'x': 32, 'y': 206, 'pageX': 32, 'pageY': 206} Viewport size: {'width': 1280, 'height': 720}\n",
      "Mouse position: {'x': 32, 'y': 206, 'pageX': 32, 'pageY': 206} Viewport size: {'width': 1280, 'height': 720}\n",
      "Mouse position: {'x': 32, 'y': 206, 'pageX': 32, 'pageY': 206} Viewport size: {'width': 1280, 'height': 720}\n",
      "Mouse position: {'x': 32, 'y': 206, 'pageX': 32, 'pageY': 206} Viewport size: {'width': 1280, 'height': 720}\n",
      "Mouse position: {'x': 32, 'y': 206, 'pageX': 32, 'pageY': 206} Viewport size: {'width': 1280, 'height': 720}\n",
      "Mouse position: {'x': 32, 'y': 206, 'pageX': 32, 'pageY': 206} Viewport size: {'width': 1280, 'height': 720}\n",
      "Mouse position: {'x': 32, 'y': 206, 'pageX': 32, 'pageY': 206} Viewport size: {'width': 1280, 'height': 720}\n",
      "Mouse position: {'x': 32, 'y': 206, 'pageX': 32, 'pageY': 206} Viewport size: {'width': 1280, 'height': 720}\n",
      "Mouse position: {'x': 32, 'y': 206, 'pageX': 32, 'pageY': 206} Viewport size: {'width': 1280, 'height': 720}\n",
      "Mouse position: {'x': 32, 'y': 206, 'pageX': 32, 'pageY': 206} Viewport size: {'width': 1280, 'height': 720}\n"
     ]
    },
    {
     "ename": "CancelledError",
     "evalue": "",
     "output_type": "error",
     "traceback": [
      "\u001b[0;31m---------------------------------------------------------------------------\u001b[0m",
      "\u001b[0;31mCancelledError\u001b[0m                            Traceback (most recent call last)",
      "Cell \u001b[0;32mIn[165], line 39\u001b[0m\n\u001b[1;32m     29\u001b[0m         viewport \u001b[38;5;241m=\u001b[39m \u001b[38;5;28;01mawait\u001b[39;00m page\u001b[38;5;241m.\u001b[39mevaluate(\u001b[38;5;124m\"\"\"\u001b[39m\n\u001b[1;32m     30\u001b[0m \u001b[38;5;124m            () => \u001b[39m\u001b[38;5;124m{\u001b[39m\n\u001b[1;32m     31\u001b[0m \u001b[38;5;124m                console.log(window.innerWidth, window.innerHeight, \u001b[39m\u001b[38;5;124m\"\u001b[39m\u001b[38;5;124mVIEWPORT\u001b[39m\u001b[38;5;124m\"\u001b[39m\u001b[38;5;124m)\u001b[39m\n\u001b[0;32m   (...)\u001b[0m\n\u001b[1;32m     36\u001b[0m \u001b[38;5;124m            }\u001b[39m\n\u001b[1;32m     37\u001b[0m \u001b[38;5;124m        \u001b[39m\u001b[38;5;124m\"\"\"\u001b[39m)\n\u001b[1;32m     38\u001b[0m         \u001b[38;5;28mprint\u001b[39m(\u001b[38;5;124m\"\u001b[39m\u001b[38;5;124mMouse position:\u001b[39m\u001b[38;5;124m\"\u001b[39m, position, \u001b[38;5;124m\"\u001b[39m\u001b[38;5;124mViewport size:\u001b[39m\u001b[38;5;124m\"\u001b[39m, viewport)\n\u001b[0;32m---> 39\u001b[0m         \u001b[38;5;28;01mawait\u001b[39;00m asyncio\u001b[38;5;241m.\u001b[39msleep(\u001b[38;5;241m1\u001b[39m)  \u001b[38;5;66;03m# Wait for 1 second before checking again\u001b[39;00m\n\u001b[1;32m     40\u001b[0m \u001b[38;5;28;01mexcept\u001b[39;00m \u001b[38;5;167;01mKeyboardInterrupt\u001b[39;00m:\n\u001b[1;32m     41\u001b[0m     \u001b[38;5;28mprint\u001b[39m(\u001b[38;5;124m\"\u001b[39m\u001b[38;5;124mStopped tracking mouse position.\u001b[39m\u001b[38;5;124m\"\u001b[39m)\n",
      "File \u001b[0;32m~/miniconda3/envs/ml/lib/python3.9/asyncio/tasks.py:652\u001b[0m, in \u001b[0;36msleep\u001b[0;34m(delay, result, loop)\u001b[0m\n\u001b[1;32m    648\u001b[0m h \u001b[38;5;241m=\u001b[39m loop\u001b[38;5;241m.\u001b[39mcall_later(delay,\n\u001b[1;32m    649\u001b[0m                     futures\u001b[38;5;241m.\u001b[39m_set_result_unless_cancelled,\n\u001b[1;32m    650\u001b[0m                     future, result)\n\u001b[1;32m    651\u001b[0m \u001b[38;5;28;01mtry\u001b[39;00m:\n\u001b[0;32m--> 652\u001b[0m     \u001b[38;5;28;01mreturn\u001b[39;00m \u001b[38;5;28;01mawait\u001b[39;00m future\n\u001b[1;32m    653\u001b[0m \u001b[38;5;28;01mfinally\u001b[39;00m:\n\u001b[1;32m    654\u001b[0m     h\u001b[38;5;241m.\u001b[39mcancel()\n",
      "File \u001b[0;32m~/miniconda3/envs/ml/lib/python3.9/asyncio/futures.py:284\u001b[0m, in \u001b[0;36mFuture.__await__\u001b[0;34m(self)\u001b[0m\n\u001b[1;32m    282\u001b[0m \u001b[38;5;28;01mif\u001b[39;00m \u001b[38;5;129;01mnot\u001b[39;00m \u001b[38;5;28mself\u001b[39m\u001b[38;5;241m.\u001b[39mdone():\n\u001b[1;32m    283\u001b[0m     \u001b[38;5;28mself\u001b[39m\u001b[38;5;241m.\u001b[39m_asyncio_future_blocking \u001b[38;5;241m=\u001b[39m \u001b[38;5;28;01mTrue\u001b[39;00m\n\u001b[0;32m--> 284\u001b[0m     \u001b[38;5;28;01myield\u001b[39;00m \u001b[38;5;28mself\u001b[39m  \u001b[38;5;66;03m# This tells Task to wait for completion.\u001b[39;00m\n\u001b[1;32m    285\u001b[0m \u001b[38;5;28;01mif\u001b[39;00m \u001b[38;5;129;01mnot\u001b[39;00m \u001b[38;5;28mself\u001b[39m\u001b[38;5;241m.\u001b[39mdone():\n\u001b[1;32m    286\u001b[0m     \u001b[38;5;28;01mraise\u001b[39;00m \u001b[38;5;167;01mRuntimeError\u001b[39;00m(\u001b[38;5;124m\"\u001b[39m\u001b[38;5;124mawait wasn\u001b[39m\u001b[38;5;124m'\u001b[39m\u001b[38;5;124mt used with future\u001b[39m\u001b[38;5;124m\"\u001b[39m)\n",
      "\u001b[0;31mCancelledError\u001b[0m: "
     ]
    }
   ],
   "source": [
    "# # Set up the event listener for mouse movement and viewport resize\n",
    "# await page.evaluate(\"\"\"\n",
    "#     document.addEventListener('mousemove', event => {\n",
    "#         window.clientX = event.clientX;\n",
    "#         window.clientY = event.clientY;\n",
    "#         window.pageX = event.pageX;\n",
    "#         window.pageY = event.pageY;\n",
    "#     });\n",
    "\n",
    "#     window.addEventListener('resize', () => {\n",
    "#         console.log('Viewport width:', window.innerWidth, 'Viewport height:', window.innerHeight);\n",
    "#     });\n",
    "# \"\"\")\n",
    "\n",
    "# # Continuously retrieve the mouse position and viewport size\n",
    "# try:\n",
    "#     while True:\n",
    "#         position = await page.evaluate(\"\"\"\n",
    "#             () => {\n",
    "#                 console.log(window.clientX, window.clientY)\n",
    "#                 return {\n",
    "#                     x: window.clientX || 0,\n",
    "#                     y: window.clientY || 0,\n",
    "#                     pageX: window.pageX || 0,\n",
    "#                     pageY: window.pageY || 0,\n",
    "#                 };\n",
    "#             }\n",
    "#         \"\"\")\n",
    "#         viewport = await page.evaluate(\"\"\"\n",
    "#             () => {\n",
    "#                 console.log(window.innerWidth, window.innerHeight, \"VIEWPORT\")\n",
    "#                 return {\n",
    "#                     width: window.innerWidth,\n",
    "#                     height: window.innerHeight\n",
    "#                 };\n",
    "#             }\n",
    "#         \"\"\")\n",
    "#         print(\"Mouse position:\", position, \"Viewport size:\", viewport)\n",
    "#         await asyncio.sleep(1)  # Wait for 1 second before checking again\n",
    "# except KeyboardInterrupt:\n",
    "#     print(\"Stopped tracking mouse position.\")\n"
   ]
  },
  {
   "cell_type": "code",
   "execution_count": 83,
   "metadata": {},
   "outputs": [
    {
     "data": {
      "text/plain": [
       "{'x': 225, 'y': 198, 'pageX': 225, 'pageY': 198}"
      ]
     },
     "execution_count": 83,
     "metadata": {},
     "output_type": "execute_result"
    }
   ],
   "source": [
    "position = await page.evaluate(\"\"\"\n",
    "            () => {\n",
    "                console.log(window.clientX, window.clientY)\n",
    "                return {\n",
    "                    x: window.clientX || 0,\n",
    "                    y: window.clientY || 0,\n",
    "                    pageX: window.pageX || 0,\n",
    "                    pageY: window.pageY || 0,\n",
    "                };\n",
    "            }\n",
    "        \"\"\")\n",
    "\n",
    "position"
   ]
  },
  {
   "cell_type": "code",
   "execution_count": 164,
   "metadata": {},
   "outputs": [],
   "source": [
    "async def mark_click(page, x, y):\n",
    "    await page.evaluate(\"\"\"\n",
    "        (x, y) => {\n",
    "            const dot = document.createElement('div');\n",
    "            dot.style.position = 'absolute';\n",
    "            dot.style.width = '100px';\n",
    "            dot.style.height = '100px';\n",
    "            dot.style.backgroundColor = 'red';\n",
    "            dot.style.borderRadius = '50%';\n",
    "            dot.style.zIndex = '1000';\n",
    "            dot.style.left = `${x - 5}px`;  // Center the dot\n",
    "            dot.style.top = `${y - 5}px`;   // Center the dot\n",
    "            document.body.appendChild(dot);\n",
    "\n",
    "            // Remove the dot after 1 second\n",
    "            setTimeout(() => {\n",
    "                dot.remove();\n",
    "            }, 1000);\n",
    "        }\n",
    "    \"\"\", {x, y})\n",
    "\n",
    "# Example usage\n",
    "x_coordinate = 605\n",
    "y_coordinate = 293\n",
    "await page.mouse.click(x_coordinate, y_coordinate)\n",
    "await mark_click(page, x_coordinate, y_coordinate)"
   ]
  },
  {
   "cell_type": "code",
   "execution_count": 166,
   "metadata": {},
   "outputs": [],
   "source": [
    "box = await page.get_by_role('button', name='Apply').bounding_box()\n",
    "await page.mouse.click(box[\"x\"] + box[\"width\"] / 2, box[\"y\"] + box[\"height\"] / 2)"
   ]
  },
  {
   "cell_type": "code",
   "execution_count": 184,
   "metadata": {},
   "outputs": [
    {
     "data": {
      "text/plain": [
       "<Locator frame=<Frame name= url='https://app.careerpuck.com/job-board/lyft/job/7627231002?gh_jid=7|627231002'> selector='internal:label=\"First Name\"i'>"
      ]
     },
     "execution_count": 184,
     "metadata": {},
     "output_type": "execute_result"
    }
   ],
   "source": [
    "page.get_by_label(\"First Name\")"
   ]
  },
  {
   "cell_type": "code",
   "execution_count": 187,
   "metadata": {},
   "outputs": [
    {
     "data": {
      "text/plain": [
       "<Locator frame=<Frame name= url='https://app.careerpuck.com/job-board/lyft/job/7627231002?gh_jid=7|627231002'> selector='internal:testid=[data-testid=\"internal:label=\\\\\"First Name\\\\\"i\"s]'>"
      ]
     },
     "execution_count": 187,
     "metadata": {},
     "output_type": "execute_result"
    }
   ],
   "source": [
    "page.get_by_test_id('internal:label=\"First Name\"i')"
   ]
  }
 ],
 "metadata": {
  "kernelspec": {
   "display_name": "ml",
   "language": "python",
   "name": "python3"
  },
  "language_info": {
   "codemirror_mode": {
    "name": "ipython",
    "version": 3
   },
   "file_extension": ".py",
   "mimetype": "text/x-python",
   "name": "python",
   "nbconvert_exporter": "python",
   "pygments_lexer": "ipython3",
   "version": "3.9.19"
  }
 },
 "nbformat": 4,
 "nbformat_minor": 2
}
